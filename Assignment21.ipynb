{
 "cells": [
  {
   "cell_type": "markdown",
   "id": "798762d1",
   "metadata": {},
   "source": [
    "# 1. Add the current date to the text file today.txt as a string."
   ]
  },
  {
   "cell_type": "code",
   "execution_count": 1,
   "id": "551e8fdd",
   "metadata": {},
   "outputs": [
    {
     "data": {
      "text/plain": [
       "'2022-12-03'"
      ]
     },
     "execution_count": 1,
     "metadata": {},
     "output_type": "execute_result"
    }
   ],
   "source": [
    "import datetime\n",
    "from datetime import date\n",
    "now = date.today()\n",
    "cur_date = now.isoformat()\n",
    "cur_date\n",
    "     "
   ]
  },
  {
   "cell_type": "code",
   "execution_count": 2,
   "id": "bdee915a",
   "metadata": {},
   "outputs": [],
   "source": [
    "with open('today.txt','w') as file:\n",
    "    file.write(cur_date)"
   ]
  },
  {
   "cell_type": "markdown",
   "id": "9e5f4b99",
   "metadata": {},
   "source": [
    "# Q. Read the text file today.txt into the string today_string\n",
    "\n"
   ]
  },
  {
   "cell_type": "code",
   "execution_count": 3,
   "id": "80ae348f",
   "metadata": {},
   "outputs": [
    {
     "data": {
      "text/plain": [
       "'2022-12-03'"
      ]
     },
     "execution_count": 3,
     "metadata": {},
     "output_type": "execute_result"
    }
   ],
   "source": [
    "with open('today.txt','r') as file:\n",
    "    today_string = file.read()\n",
    "today_string\n",
    "     "
   ]
  },
  {
   "cell_type": "markdown",
   "id": "5f4d839c",
   "metadata": {},
   "source": [
    "# Q. Parse the date from today_string."
   ]
  },
  {
   "cell_type": "code",
   "execution_count": 4,
   "id": "9f2114ac",
   "metadata": {},
   "outputs": [
    {
     "data": {
      "text/plain": [
       "datetime.datetime(2022, 12, 3, 0, 0)"
      ]
     },
     "execution_count": 4,
     "metadata": {},
     "output_type": "execute_result"
    }
   ],
   "source": [
    "from datetime import datetime\n",
    "format = '%Y-%m-%d'\n",
    "datetime.strptime(today_string,format)\n",
    "     "
   ]
  },
  {
   "cell_type": "markdown",
   "id": "faad3d26",
   "metadata": {},
   "source": [
    "# Q. List the files in your current directory"
   ]
  },
  {
   "cell_type": "code",
   "execution_count": 5,
   "id": "9460eea5",
   "metadata": {},
   "outputs": [
    {
     "data": {
      "text/plain": [
       "['.anaconda',\n",
       " '.astropy',\n",
       " '.conda',\n",
       " '.condarc',\n",
       " '.continuum',\n",
       " '.eclipse',\n",
       " '.ipynb_checkpoints',\n",
       " '.ipython',\n",
       " '.jupyter',\n",
       " '.matplotlib',\n",
       " '.p2',\n",
       " '.pytest_cache',\n",
       " '.spyder-py3',\n",
       " '.VirtualBox',\n",
       " '.vscode',\n",
       " '22april input.ipynb',\n",
       " '3D Objects',\n",
       " 'anaconda3',\n",
       " 'anakonda',\n",
       " 'AppData',\n",
       " 'Application Data',\n",
       " 'AppMods',\n",
       " 'Assignment 10.ipynb',\n",
       " 'assignment 4.ipynb',\n",
       " 'Assignment 6.ipynb',\n",
       " 'Assignment 7.ipynb',\n",
       " 'Assignment 8.ipynb',\n",
       " 'assignment.ipynb',\n",
       " 'Assignment11.ipynb',\n",
       " 'Assignment12.ipynb',\n",
       " 'Assignment13.ipynb',\n",
       " 'Assignment14.ipynb',\n",
       " 'Assignment15.ipynb',\n",
       " 'Assignment16.ipynb',\n",
       " 'Assignment17.ipynb',\n",
       " 'Assignment19.ipynb',\n",
       " 'assignments 1.ipynb',\n",
       " 'assignments.ipynb',\n",
       " 'Assignment_3.ipynb',\n",
       " 'Contacts',\n",
       " 'Convert Image into Pencil Sketch.ipynb',\n",
       " 'Cookies',\n",
       " 'daltcs2v.ipynb',\n",
       " 'DAY3.ipynb',\n",
       " 'Day7  Hangman_project.ipynb',\n",
       " 'Desktop',\n",
       " 'Documents',\n",
       " 'Downloads',\n",
       " 'eclipse-workspace',\n",
       " 'Expection Handling.ipynb',\n",
       " 'Exploratory Data Analysis .ipynb',\n",
       " 'Favorites',\n",
       " 'File Handling of python From A-Z Raja.ipynb',\n",
       " 'functions.ipynb',\n",
       " 'input sucesful prgram.ipynb',\n",
       " 'IntelGraphicsProfiles',\n",
       " 'iterator,generator,reduce,map,filter ,basic file opeartion.ipynb',\n",
       " 'Jedi',\n",
       " 'learn coding.ipynb',\n",
       " 'Links',\n",
       " 'list,tuple,dictionary.ipynb',\n",
       " 'Local Settings',\n",
       " 'loops .ipynb',\n",
       " 'Matplot Lib.ipynb',\n",
       " 'Music',\n",
       " 'My Documents',\n",
       " 'mypro',\n",
       " 'myproject',\n",
       " 'naga1999',\n",
       " 'NetHood',\n",
       " 'NTUSER.DAT',\n",
       " 'ntuser.dat.LOG1',\n",
       " 'ntuser.dat.LOG2',\n",
       " 'NTUSER.DAT{88f0f0cf-d51a-11ec-a5aa-da5e8b078fcd}.TM.blf',\n",
       " 'NTUSER.DAT{88f0f0cf-d51a-11ec-a5aa-da5e8b078fcd}.TMContainer00000000000000000001.regtrans-ms',\n",
       " 'NTUSER.DAT{88f0f0cf-d51a-11ec-a5aa-da5e8b078fcd}.TMContainer00000000000000000002.regtrans-ms',\n",
       " 'ntuser.ini',\n",
       " 'numpy D1.ipynb',\n",
       " 'Numpy Day2.ipynb',\n",
       " 'OneDrive',\n",
       " 'Pandas 131122.ipynb',\n",
       " 'Pandas.ipynb',\n",
       " 'Postman',\n",
       " 'practising loops.ipynb',\n",
       " 'PrintHood',\n",
       " 'PycharmProject',\n",
       " 'PycharmProjects',\n",
       " 'Python Fundamentals1.ipynb',\n",
       " 'QR code.ipynb',\n",
       " 'real time examples.ipynb',\n",
       " 'Recent',\n",
       " 'Recorded Calls',\n",
       " 'Saved Games',\n",
       " 'Searches',\n",
       " 'Second Assignment.ipynb',\n",
       " 'SendTo',\n",
       " 'Start Menu',\n",
       " 'statastics.ipynb',\n",
       " 'strings in python with concepts.ipynb',\n",
       " 'Templates',\n",
       " 'test123',\n",
       " 'today.txt',\n",
       " 'Tracing',\n",
       " 'Untitled.ipynb',\n",
       " 'Untitled1.ipynb',\n",
       " 'Untitled10.ipynb',\n",
       " 'Untitled11.ipynb',\n",
       " 'Untitled12.ipynb',\n",
       " 'Untitled13.ipynb',\n",
       " 'Untitled14.ipynb',\n",
       " 'Untitled15.ipynb',\n",
       " 'Untitled16.ipynb',\n",
       " 'Untitled17.ipynb',\n",
       " 'Untitled18.ipynb',\n",
       " 'Untitled19.ipynb',\n",
       " 'Untitled2.ipynb',\n",
       " 'Untitled20.ipynb',\n",
       " 'Untitled21.ipynb',\n",
       " 'Untitled22.ipynb',\n",
       " 'Untitled23.ipynb',\n",
       " 'Untitled24.ipynb',\n",
       " 'Untitled25.ipynb',\n",
       " 'Untitled26.ipynb',\n",
       " 'Untitled27.ipynb',\n",
       " 'Untitled28.ipynb',\n",
       " 'Untitled29.ipynb',\n",
       " 'Untitled3.ipynb',\n",
       " 'Untitled30.ipynb',\n",
       " 'Untitled31.ipynb',\n",
       " 'Untitled32.ipynb',\n",
       " 'Untitled33.ipynb',\n",
       " 'Untitled34.ipynb',\n",
       " 'Untitled35.ipynb',\n",
       " 'Untitled36.ipynb',\n",
       " 'Untitled37.ipynb',\n",
       " 'Untitled38.ipynb',\n",
       " 'Untitled39.ipynb',\n",
       " 'Untitled4.ipynb',\n",
       " 'Untitled40.ipynb',\n",
       " 'Untitled41.ipynb',\n",
       " 'Untitled42.ipynb',\n",
       " 'Untitled43.ipynb',\n",
       " 'Untitled44.ipynb',\n",
       " 'Untitled45.ipynb',\n",
       " 'Untitled46.ipynb',\n",
       " 'Untitled47.ipynb',\n",
       " 'Untitled48.ipynb',\n",
       " 'Untitled49.ipynb',\n",
       " 'Untitled5.ipynb',\n",
       " 'Untitled50.ipynb',\n",
       " 'Untitled51.ipynb',\n",
       " 'Untitled52.ipynb',\n",
       " 'Untitled53.ipynb',\n",
       " 'Untitled54.ipynb',\n",
       " 'Untitled55.ipynb',\n",
       " 'Untitled56.ipynb',\n",
       " 'Untitled57.ipynb',\n",
       " 'Untitled58.ipynb',\n",
       " 'Untitled59.ipynb',\n",
       " 'Untitled6.ipynb',\n",
       " 'Untitled60.ipynb',\n",
       " 'Untitled61.ipynb',\n",
       " 'Untitled62.ipynb',\n",
       " 'Untitled63.ipynb',\n",
       " 'Untitled7.ipynb',\n",
       " 'Untitled8.ipynb',\n",
       " 'Untitled9.ipynb',\n",
       " 'updation of string.ipynb',\n",
       " 'Videos']"
      ]
     },
     "execution_count": 5,
     "metadata": {},
     "output_type": "execute_result"
    }
   ],
   "source": [
    "import os\n",
    "os.listdir('.')"
   ]
  },
  {
   "cell_type": "markdown",
   "id": "94bc9733",
   "metadata": {},
   "source": [
    "# Q. Use multiprocessing to create three separate processes. Make each one wait a random number of seconds between one and five, print the current time, and then exit."
   ]
  },
  {
   "cell_type": "code",
   "execution_count": 12,
   "id": "1f0477cf",
   "metadata": {},
   "outputs": [],
   "source": [
    "import multiprocessing\n",
    "\n",
    "def printsec(seconds):\n",
    "    from datetime import datetime\n",
    "    from time import sleep\n",
    "    sleep(seconds)\n",
    "    print('wait', seconds, 'seconds, time is', datetime.utcnow())\n",
    "    \n",
    "if __name__ == '__main__':\n",
    "    import random    \n",
    "    for n in range(3):\n",
    "        seconds = random.random()\n",
    "        proc = multiprocessing.Process(target=printsec, args=(seconds,))\n",
    "        proc.start()\n",
    "        \n",
    "     \n",
    "     "
   ]
  },
  {
   "cell_type": "code",
   "execution_count": null,
   "id": "a9b82d73",
   "metadata": {},
   "outputs": [],
   "source": [
    "!python abc.py\n",
    "     "
   ]
  },
  {
   "cell_type": "markdown",
   "id": "faf85feb",
   "metadata": {},
   "source": [
    "# Q. Create a date object of your day of birth"
   ]
  },
  {
   "cell_type": "code",
   "execution_count": 8,
   "id": "1f83db5e",
   "metadata": {},
   "outputs": [
    {
     "data": {
      "text/plain": [
       "datetime.date(1998, 9, 9)"
      ]
     },
     "execution_count": 8,
     "metadata": {},
     "output_type": "execute_result"
    }
   ],
   "source": [
    "my_dob = date(1998,9,9)\n",
    "my_dob\n",
    "     "
   ]
  },
  {
   "cell_type": "markdown",
   "id": "20d97601",
   "metadata": {},
   "source": [
    "# Q. What day of the week was your day of birth?"
   ]
  },
  {
   "cell_type": "code",
   "execution_count": 9,
   "id": "b9978e6f",
   "metadata": {},
   "outputs": [
    {
     "data": {
      "text/plain": [
       "2"
      ]
     },
     "execution_count": 9,
     "metadata": {},
     "output_type": "execute_result"
    }
   ],
   "source": [
    "my_dob.weekday()\n",
    "     "
   ]
  },
  {
   "cell_type": "markdown",
   "id": "cd1030d5",
   "metadata": {},
   "source": [
    "# Q. When will you be (or when were you) 10,000 days old?"
   ]
  },
  {
   "cell_type": "code",
   "execution_count": 10,
   "id": "99ac14b2",
   "metadata": {},
   "outputs": [
    {
     "data": {
      "text/plain": [
       "datetime.date(2026, 1, 25)"
      ]
     },
     "execution_count": 10,
     "metadata": {},
     "output_type": "execute_result"
    }
   ],
   "source": [
    "from datetime import timedelta\n",
    "day10000 = my_dob + timedelta(days=10000)\n",
    "day10000"
   ]
  },
  {
   "cell_type": "code",
   "execution_count": null,
   "id": "637520fd",
   "metadata": {},
   "outputs": [],
   "source": []
  },
  {
   "cell_type": "code",
   "execution_count": null,
   "id": "6145e5a7",
   "metadata": {},
   "outputs": [],
   "source": []
  }
 ],
 "metadata": {
  "kernelspec": {
   "display_name": "Python 3 (ipykernel)",
   "language": "python",
   "name": "python3"
  },
  "language_info": {
   "codemirror_mode": {
    "name": "ipython",
    "version": 3
   },
   "file_extension": ".py",
   "mimetype": "text/x-python",
   "name": "python",
   "nbconvert_exporter": "python",
   "pygments_lexer": "ipython3",
   "version": "3.9.7"
  }
 },
 "nbformat": 4,
 "nbformat_minor": 5
}
